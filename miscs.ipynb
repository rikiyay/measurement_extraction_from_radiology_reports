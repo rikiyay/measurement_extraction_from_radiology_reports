{
 "cells": [
  {
   "cell_type": "code",
   "execution_count": 3,
   "metadata": {},
   "outputs": [],
   "source": [
    "import re\n",
    "import numpy as np\n",
    "import pandas as pd"
   ]
  },
  {
   "cell_type": "code",
   "execution_count": null,
   "metadata": {},
   "outputs": [],
   "source": []
  },
  {
   "cell_type": "markdown",
   "metadata": {},
   "source": [
    "### extract pancreas-relevant sentences in the findings section of the reports"
   ]
  },
  {
   "cell_type": "code",
   "execution_count": 595,
   "metadata": {},
   "outputs": [],
   "source": [
    "rep = pd.read_csv('reports.csv')"
   ]
  },
  {
   "cell_type": "code",
   "execution_count": 602,
   "metadata": {},
   "outputs": [],
   "source": [
    "in_anatomy = ['pancrea', 'uncus', 'uncinate']"
   ]
  },
  {
   "cell_type": "code",
   "execution_count": 603,
   "metadata": {},
   "outputs": [],
   "source": [
    "ex_anatomy = ['airway', 'chest', 'trachea', 'bronch', 'carina', 'thorax', 'thoracic', \n",
    "              'lung', 'pulmonary', 'heart', 'cardia', 'pleura', 'mediastin', 'thyroid', 'breast', \n",
    "              'liver', 'hepatic', 'biliary', 'bile', 'gall', 'chole', 'spleen', 'splen', \n",
    "              'kidney', 'renal', 'nephro', 'adrenal', 'esophageal', 'stomach', 'gastric', \n",
    "              'gastro', 'intestine', 'colon', 'rectum', 'rectal', 'bowel', 'appendix', \n",
    "              'appendiceal', 'duodenal', 'iliac', 'ileum', \n",
    "              'jejunal', 'mesenteric', 'small intestine', 'small bowel', 'gi tract', \n",
    "              'ovary', 'adnexa', 'adnexal', 'uterus', 'uterine', 'vagina', 'pelvi', 'ureter', 'perineum', \n",
    "              'peritoneal', 'prostate', 'bladder', \n",
    "              'brain', 'bone', 'bony', 'osseous', 'spine', 'spinal', 'vertebr', 'thoraco', \n",
    "              'lumbar', 'skeletal', 'musculo', 'muscle', 'abdominal wall', \n",
    "              'gynecomastia', 'soft tissue', 'axilla', ' rib ', 'portal', 'porto', 'celiac', \n",
    "              'vascular', 'aorta', 'aortic', 'coronary', 'athero', 'common iliac', 'vena cava', \n",
    "              'vasculature', 'lymph']"
   ]
  },
  {
   "cell_type": "code",
   "execution_count": 597,
   "metadata": {},
   "outputs": [],
   "source": [
    "results = []\n",
    "for x in range(len(rep)):\n",
    "    string = rep.iloc[x, 6].lower()\n",
    "    if 'findings:' in string:\n",
    "        m = re.search(r'findings:', string)\n",
    "        string = string[m.start():]\n",
    "        m = re.search(r'impression:', string)\n",
    "        if m:\n",
    "            string = string[:m.start()]\n",
    "            if 'pancreas:' in string:\n",
    "                m = re.search(r'pancreas:', string)\n",
    "                string = string[m.start():]\n",
    "                results.append(re.sub(r'\\s+', ' ', string).strip())\n",
    "            elif 'abdomen/pelvis:' in string:\n",
    "                m = re.search(r'abdomen/pelvis:', string)\n",
    "                string = string[m.start():]\n",
    "                results.append(re.sub(r'\\s+', ' ', string).strip())\n",
    "            elif 'abdomen and pelvis:' in string:\n",
    "                m = re.search(r'abdomen and pelvis:', string)\n",
    "                string = string[m.start():]\n",
    "                results.append(re.sub(r'\\s+', ' ', string).strip())\n",
    "            else:\n",
    "                results.append(re.sub(r'\\s+', ' ', string).strip())\n",
    "        else:\n",
    "            m = re.search(r'conclusion:|impression|impressions:', string)\n",
    "            if m:\n",
    "                string = string[:m.start()]\n",
    "                if 'pancreas:' in string:\n",
    "                    m = re.search(r'pancreas:', string)\n",
    "                    string = string[m.start():]\n",
    "                    results.append(re.sub(r'\\s+', ' ', string).strip())\n",
    "                elif 'abdomen/pelvis:' in string:\n",
    "                    m = re.search(r'abdomen/pelvis:', string)\n",
    "                    string = string[m.start():]\n",
    "                    results.append(re.sub(r'\\s+', ' ', string).strip())\n",
    "                elif 'abdomen and pelvis:' in string:\n",
    "                    m = re.search(r'abdomen and pelvis:', string)\n",
    "                    string = string[m.start():]\n",
    "                    results.append(re.sub(r'\\s+', ' ', string).strip())\n",
    "                else:\n",
    "                    results.append(re.sub(r'\\s+', ' ', string).strip())\n",
    "            else:\n",
    "                results.append('')\n",
    "    else:\n",
    "        results.append('')"
   ]
  },
  {
   "cell_type": "code",
   "execution_count": null,
   "metadata": {},
   "outputs": [],
   "source": [
    "results_panc = []\n",
    "for idx in range(len(results)):\n",
    "    sentences = results[idx].replace('cm.', 'cm').replace('mm.', 'mm').split('. ')\n",
    "    start = []\n",
    "    stop = -1\n",
    "    for i, s in enumerate(sentences):\n",
    "        if re.search(r'(?<!peri)pancrea', s) or 'uncus' in s or 'uncinate' in s:\n",
    "            start.append(i)\n",
    "    if start:\n",
    "        for i, s in enumerate(sentences):\n",
    "            if i > start[-1]:\n",
    "                for j in ex_anatomy:\n",
    "                    if j in s:\n",
    "                        stop = i\n",
    "                        break\n",
    "        if stop != -1:\n",
    "            results_panc.append('. '.join(sentences[start[0]:stop])+'.')\n",
    "            print('. '.join(sentences[start[0]:stop])+'.')\n",
    "        else:\n",
    "            results_panc.append('. '.join(sentences[start[0]:start[-1]+1])+'.')\n",
    "            print('. '.join(sentences[start[0]:start[-1]+1])+'.')\n",
    "    else:\n",
    "        results_panc.append('no findings were found.')"
   ]
  },
  {
   "cell_type": "code",
   "execution_count": 616,
   "metadata": {},
   "outputs": [],
   "source": [
    "rep['findings'] = results_panc"
   ]
  },
  {
   "cell_type": "code",
   "execution_count": 618,
   "metadata": {},
   "outputs": [],
   "source": [
    "rep.to_csv('reports_pancreas_findings.csv', index=False)"
   ]
  },
  {
   "cell_type": "code",
   "execution_count": null,
   "metadata": {},
   "outputs": [],
   "source": []
  },
  {
   "cell_type": "code",
   "execution_count": null,
   "metadata": {},
   "outputs": [],
   "source": []
  },
  {
   "cell_type": "code",
   "execution_count": null,
   "metadata": {},
   "outputs": [],
   "source": []
  },
  {
   "cell_type": "markdown",
   "metadata": {},
   "source": [
    "### extract a single largest diameter per report"
   ]
  },
  {
   "cell_type": "code",
   "execution_count": 1040,
   "metadata": {},
   "outputs": [],
   "source": [
    "df = pd.read_csv('output.csv')"
   ]
  },
  {
   "cell_type": "code",
   "execution_count": null,
   "metadata": {},
   "outputs": [],
   "source": [
    "maxi = []\n",
    "for i in range(len(df)):\n",
    "    phrase = set([p.replace(' ', '') for p in df.iloc[i, 4:].tolist() if isinstance(p, str) and \"[CLS]\" not in p and \"[PAD]\" not in p])\n",
    "    reg = r'\\d.*?(?:cm|mm|(?<!sub)centimeter|millimeter)''\n",
    "    tmp = []\n",
    "    for p in phrase:\n",
    "        if (len([p]) > 0) and (len([p]) < 40):\n",
    "            for rx in re.findall(reg, p):\n",
    "                tmp.append(rx)\n",
    "    tmp = list(set(tmp))\n",
    "    if tmp:\n",
    "        ans = []\n",
    "        for x in tmp:\n",
    "            reg2 = r'(?:([0-9.]+)(?:(?:\\(.*?\\))?)(?:x|by|to|,|,and|and))?(?:([0-9.]+)(?:(?:\\(.*?\\))?)(?:x|by|to|,|,and|and))?([0-9.]+)(?:(?:\\(.*?\\))?)(?:-?)(?:(?:\\(.*?\\))?)(cm|mm|centimeter|millimeter)'\n",
    "            rx2 = re.findall(reg2, x)\n",
    "            if rx2:\n",
    "                for z in range(len(rx2[0])-1):\n",
    "                    y = rx2[0][z]\n",
    "                    if y:\n",
    "                        if (rx2[0][-1]=='cm') or (rx2[0][-1]=='centimeter'):\n",
    "                            if not y.startswith('.'):\n",
    "                                ans.append(float(y)*10)\n",
    "                            elif y.startswith('.'):\n",
    "                                ans.append(float(y[1:])*10)\n",
    "                        elif (rx2[0][-1]=='mm') or (rx2[0][-1]=='millimeter'):\n",
    "                            ans.append(float(y))\n",
    "        if ans:\n",
    "            maxi.append(max(ans))\n",
    "        else:\n",
    "            maxi.append(np.nan)\n",
    "    else:\n",
    "        maxi.append(np.nan)"
   ]
  },
  {
   "cell_type": "code",
   "execution_count": 1049,
   "metadata": {},
   "outputs": [],
   "source": [
    "df['max'] = maxi"
   ]
  },
  {
   "cell_type": "code",
   "execution_count": 1051,
   "metadata": {},
   "outputs": [],
   "source": [
    "df.to_csv('output_largest_diameter.csv', index=False)"
   ]
  }
 ],
 "metadata": {
  "kernelspec": {
   "display_name": "Python 3",
   "language": "python",
   "name": "python3"
  },
  "language_info": {
   "codemirror_mode": {
    "name": "ipython",
    "version": 3
   },
   "file_extension": ".py",
   "mimetype": "text/x-python",
   "name": "python",
   "nbconvert_exporter": "python",
   "pygments_lexer": "ipython3",
   "version": "3.9.1"
  }
 },
 "nbformat": 4,
 "nbformat_minor": 4
}
